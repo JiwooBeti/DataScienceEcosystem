{
  "metadata": {
    "kernelspec": {
      "name": "python",
      "display_name": "Python (Pyodide)",
      "language": "python"
    },
    "language_info": {
      "name": ""
    }
  },
  "nbformat_minor": 4,
  "nbformat": 4,
  "cells": [
    {
      "cell_type": "markdown",
      "source": "# Data Science Tools and Ecosystem",
      "metadata": {}
    },
    {
      "cell_type": "markdown",
      "source": "In this notebook, Data Science Tools and Ecosystem are summarized.",
      "metadata": {}
    },
    {
      "cell_type": "markdown",
      "source": "Some of the popular languages that Data Scientists use are:",
      "metadata": {}
    },
    {
      "cell_type": "markdown",
      "source": "1. Python\n2. SQL\n3. R",
      "metadata": {}
    },
    {
      "cell_type": "markdown",
      "source": "Some of the commonly used libraries used by Data Scientists include:\n1. Pandas\n2. NumPy\n3. Matplotlib",
      "metadata": {}
    },
    {
      "cell_type": "markdown",
      "source": "| Data Science Tools          |\n| --------------------------- |\n| Jupyter Notebook            |\n| RStudio                     |\n| VSCode with Python extension |",
      "metadata": {}
    },
    {
      "cell_type": "markdown",
      "source": "### Below are a few examples of evaluating arithmetic expressions in Python.",
      "metadata": {}
    },
    {
      "cell_type": "markdown",
      "source": "[//]: # \"This is a simple arithmetic expression to multiply 3 by 4 and then add 5.\"\n\nresult = (3 * 4) + 5\nresult",
      "metadata": {}
    },
    {
      "cell_type": "markdown",
      "source": "[//]: # \"This will convert 200 minutes to hours by dividing by 60.\n\"\nhours = 200 / 60\nhours",
      "metadata": {}
    },
    {
      "cell_type": "markdown",
      "source": "**Objectives:**\n\n- List popular languages for Data Science.\n- Understand key data science tools and environments.\n- Explore the integration of Jupyter with Git repositories.\n- Demonstrate usage of arithmetic expressions in Python.\n- Discuss the importance of data governance in projects.",
      "metadata": {}
    },
    {
      "cell_type": "markdown",
      "source": "## Author\nJiwoo Kim",
      "metadata": {}
    },
    {
      "cell_type": "code",
      "source": "",
      "metadata": {
        "trusted": true
      },
      "outputs": [],
      "execution_count": null
    }
  ]
}